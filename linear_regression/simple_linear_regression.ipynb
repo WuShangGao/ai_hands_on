{
 "cells": [
  {
   "cell_type": "markdown",
   "id": "0314be06",
   "metadata": {},
   "source": [
    "## 简单线性回归（Simple Linear Regression）\n",
    "\n",
    "加载单因子线性回归的数据，\n"
   ]
  },
  {
   "cell_type": "markdown",
   "id": "7c69624d",
   "metadata": {},
   "source": [
    "### 加载训练数据"
   ]
  },
  {
   "cell_type": "code",
   "execution_count": 64,
   "id": "b06f3965-c2d3-4594-a08f-892147aae532",
   "metadata": {},
   "outputs": [],
   "source": [
    "import pandas as pd\n",
    "\n",
    "# Flare Zhao老师生成的数据，一个完美的线性关系\n",
    "data = pd.read_csv(\"..//dataset//linear_regression//generated_data.csv\")"
   ]
  },
  {
   "cell_type": "code",
   "execution_count": 65,
   "id": "434923a7-bd7a-4694-a35a-72d8c17967f6",
   "metadata": {},
   "outputs": [
    {
     "data": {
      "text/html": [
       "<div>\n",
       "<style scoped>\n",
       "    .dataframe tbody tr th:only-of-type {\n",
       "        vertical-align: middle;\n",
       "    }\n",
       "\n",
       "    .dataframe tbody tr th {\n",
       "        vertical-align: top;\n",
       "    }\n",
       "\n",
       "    .dataframe thead th {\n",
       "        text-align: right;\n",
       "    }\n",
       "</style>\n",
       "<table border=\"1\" class=\"dataframe\">\n",
       "  <thead>\n",
       "    <tr style=\"text-align: right;\">\n",
       "      <th></th>\n",
       "      <th>x</th>\n",
       "      <th>y</th>\n",
       "    </tr>\n",
       "  </thead>\n",
       "  <tbody>\n",
       "    <tr>\n",
       "      <th>0</th>\n",
       "      <td>1</td>\n",
       "      <td>7</td>\n",
       "    </tr>\n",
       "    <tr>\n",
       "      <th>1</th>\n",
       "      <td>2</td>\n",
       "      <td>9</td>\n",
       "    </tr>\n",
       "    <tr>\n",
       "      <th>2</th>\n",
       "      <td>3</td>\n",
       "      <td>11</td>\n",
       "    </tr>\n",
       "    <tr>\n",
       "      <th>3</th>\n",
       "      <td>4</td>\n",
       "      <td>13</td>\n",
       "    </tr>\n",
       "    <tr>\n",
       "      <th>4</th>\n",
       "      <td>5</td>\n",
       "      <td>15</td>\n",
       "    </tr>\n",
       "  </tbody>\n",
       "</table>\n",
       "</div>"
      ],
      "text/plain": [
       "   x   y\n",
       "0  1   7\n",
       "1  2   9\n",
       "2  3  11\n",
       "3  4  13\n",
       "4  5  15"
      ]
     },
     "execution_count": 65,
     "metadata": {},
     "output_type": "execute_result"
    }
   ],
   "source": [
    "# 观察和了解数据的维度和名称\n",
    "data.head()"
   ]
  },
  {
   "cell_type": "code",
   "execution_count": 66,
   "id": "7f0f111d",
   "metadata": {},
   "outputs": [
    {
     "name": "stdout",
     "output_type": "stream",
     "text": [
      "<class 'pandas.core.frame.DataFrame'> (10, 2)\n"
     ]
    }
   ],
   "source": [
    "# 数据类型是 Pandas DataFrame，10行2列\n",
    "print(type(data), data.shape)"
   ]
  },
  {
   "cell_type": "markdown",
   "id": "47477a43",
   "metadata": {},
   "source": [
    "### 设置 特征数据/自变量（X）和 目标变量/因变量（y）\n"
   ]
  },
  {
   "cell_type": "code",
   "execution_count": 67,
   "id": "f39c8b55-d253-440b-928f-bc8c1bd8e6ef",
   "metadata": {},
   "outputs": [
    {
     "name": "stdout",
     "output_type": "stream",
     "text": [
      "0     1\n",
      "1     2\n",
      "2     3\n",
      "3     4\n",
      "4     5\n",
      "5     6\n",
      "6     7\n",
      "7     8\n",
      "8     9\n",
      "9    10\n",
      "Name: x, dtype: int64 0     7\n",
      "1     9\n",
      "2    11\n",
      "3    13\n",
      "4    15\n",
      "5    17\n",
      "6    19\n",
      "7    21\n",
      "8    23\n",
      "9    25\n",
      "Name: y, dtype: int64\n"
     ]
    }
   ],
   "source": [
    "# assign data to X, y\n",
    "# X 是特征数据，y是目标变量或者标签\n",
    "X = data.loc[:, \"x\"]\n",
    "y = data.loc[:, \"y\"]\n",
    "print(X, y)"
   ]
  },
  {
   "cell_type": "markdown",
   "id": "1750c374",
   "metadata": {},
   "source": [
    "### 观察原始数据"
   ]
  },
  {
   "cell_type": "code",
   "execution_count": 68,
   "id": "666ce9f0-0e46-4cb8-8335-12183ca03882",
   "metadata": {},
   "outputs": [
    {
     "data": {
      "image/png": "[encoded data removed]",
      "text/plain": [
       "<Figure size 500x500 with 1 Axes>"
      ]
     },
     "metadata": {},
     "output_type": "display_data"
    }
   ],
   "source": [
    "# visualize the data\n",
    "from matplotlib import pyplot as plt\n",
    "\n",
    "plt.figure(figsize=(5, 5))\n",
    "plt.scatter(X, y)\n",
    "plt.show()"
   ]
  },
  {
   "cell_type": "code",
   "execution_count": 69,
   "id": "183e3376",
   "metadata": {},
   "outputs": [
    {
     "name": "stdout",
     "output_type": "stream",
     "text": [
      "<class 'pandas.core.series.Series'> (10,)\n",
      "<class 'pandas.core.series.Series'> (10,)\n"
     ]
    }
   ],
   "source": [
    "# 当前 X 和 y 是 Pandas Series 数据类型，有 10 行数据\n",
    "print(type(X), X.shape)\n",
    "print(type(y), y.shape)"
   ]
  },
  {
   "cell_type": "markdown",
   "id": "bd111cd1",
   "metadata": {},
   "source": [
    "### 建立线性回归模型（Linear Regression Mode）"
   ]
  },
  {
   "cell_type": "code",
   "execution_count": 70,
   "id": "7549738e-ad34-4385-a582-1a536fbb9e6a",
   "metadata": {},
   "outputs": [],
   "source": [
    "# set up a linear regression model\n",
    "from sklearn.linear_model import LinearRegression\n",
    "\n",
    "lr_model = LinearRegression()"
   ]
  },
  {
   "cell_type": "code",
   "execution_count": 71,
   "id": "d8a52ebb-1b44-4b9a-9fd8-1ec78d9e9087",
   "metadata": {},
   "outputs": [],
   "source": [
    "import numpy as np\n",
    "\n",
    "# 转换成 NumPy 的 NumPy 的数组，并重塑为一个二维数组，只有一列，行数自动计算\n",
    "# 后续的的数据分析和模型训练需要 ArrayLike 的数据\n",
    "X = np.array(X).reshape(-1, 1)\n",
    "\n",
    "y = np.array(y).reshape(-1, 1)"
   ]
  },
  {
   "cell_type": "code",
   "execution_count": 72,
   "id": "da8e688c-a386-436b-bc5f-fec4e7e41b48",
   "metadata": {},
   "outputs": [
    {
     "name": "stdout",
     "output_type": "stream",
     "text": [
      "<class 'numpy.ndarray'> (10, 1)\n",
      "10\n",
      "[[ 1]\n",
      " [ 2]\n",
      " [ 3]\n",
      " [ 4]\n",
      " [ 5]\n",
      " [ 6]\n",
      " [ 7]\n",
      " [ 8]\n",
      " [ 9]\n",
      " [10]]\n"
     ]
    }
   ],
   "source": [
    "# 数据有 10 行 1 列\n",
    "print(type(X), X.shape)\n",
    "print(X[9, 0])\n",
    "print(X)\n"
   ]
  },
  {
   "cell_type": "markdown",
   "id": "44117cfa",
   "metadata": {},
   "source": [
    "### 训练模型"
   ]
  },
  {
   "cell_type": "code",
   "execution_count": 73,
   "id": "030cdd5e-5aee-4993-b976-124847baa52c",
   "metadata": {},
   "outputs": [
    {
     "data": {
      "text/plain": [
       "{'copy_X': True, 'fit_intercept': True, 'n_jobs': None, 'positive': False}"
      ]
     },
     "execution_count": 73,
     "metadata": {},
     "output_type": "execute_result"
    }
   ],
   "source": [
    "# 训练模型，根据 X 和 y 中的数据来训练模型，通过最小化预测值与实际值之间的差异来优化模型的参数\n",
    "# X 是一个包含多个特征的二维数组（或类似数组的结构，如NumPy数组、Pandas DataFrame等）\n",
    "# y 是一个一维数组，包含与 X 中的每个样本相对应的目标值。\n",
    "lr_model.fit(X, y)\n",
    "\n",
    "# 在训练完成后，lr_model 将包含训练得到的参数，这些参数是基于训练数据学习得到的，用于后续的预测任务\n",
    "lr_model.get_params()"
   ]
  },
  {
   "cell_type": "markdown",
   "id": "fc927b5e",
   "metadata": {},
   "source": [
    "### 数据预测"
   ]
  },
  {
   "cell_type": "code",
   "execution_count": 74,
   "id": "744fdb74-211c-4348-acb5-c63fb8e4bca4",
   "metadata": {},
   "outputs": [],
   "source": [
    "# 对数据集 X 进行预测，利用模型在训练阶段学习到的参数来预测新数据的目标值\n",
    "# X 是原始数据，通过对原始数据的预测，预测值是基于模型在训练阶段学习到的规律和模式计算得出的\n",
    "# y_predict 一个一维数组，包含了模型对数据集 X 中每个样本的预测值\n",
    "\n",
    "y_predict = lr_model.predict(X)"
   ]
  },
  {
   "cell_type": "code",
   "execution_count": 75,
   "id": "1c7d6a5b",
   "metadata": {},
   "outputs": [
    {
     "name": "stdout",
     "output_type": "stream",
     "text": [
      "<class 'numpy.ndarray'>\n",
      "(10, 1)\n",
      "[[ 7.]\n",
      " [ 9.]\n",
      " [11.]\n",
      " [13.]\n",
      " [15.]\n",
      " [17.]\n",
      " [19.]\n",
      " [21.]\n",
      " [23.]\n",
      " [25.]]\n"
     ]
    }
   ],
   "source": [
    "# y_predict 一个一维数组，有10行\n",
    "print(type(y_predict))\n",
    "print(y_predict.shape)\n",
    "print(y_predict)"
   ]
  },
  {
   "cell_type": "code",
   "execution_count": 76,
   "id": "fb25133e-81da-4d6b-baa6-451af46fd075",
   "metadata": {},
   "outputs": [
    {
     "name": "stdout",
     "output_type": "stream",
     "text": [
      "<class 'numpy.ndarray'> (1, 1) [[2.]]\n",
      "<class 'numpy.ndarray'> (1,) [5.]\n"
     ]
    }
   ],
   "source": [
    "# y = aX + b\n",
    "# y = a_1*x_1 + a_2*x_2 + ... + a_n*x_n + b\n",
    "# a 是一个数组，表示特征的系数(斜率),即上面的 a_1, a_2, ..., a_n, coefficient\n",
    "# b 是一个标量，是截距 intercept，即当所有特征 x_i 都为0时模型的预测值\n",
    "a = lr_model.coef_\n",
    "b = lr_model.intercept_\n",
    "print(type(a), a.shape, a)\n",
    "print(type(b), b.shape, b)"
   ]
  },
  {
   "cell_type": "markdown",
   "id": "2bdc7bcf",
   "metadata": {},
   "source": [
    "### 评估模型"
   ]
  },
  {
   "cell_type": "markdown",
   "id": "eca14eff",
   "metadata": {},
   "source": [
    "#### MSE 和 R2 方法"
   ]
  },
  {
   "cell_type": "code",
   "execution_count": 77,
   "id": "b53f5a8d-5ebe-4a3d-a7fe-84c6792688f1",
   "metadata": {},
   "outputs": [
    {
     "name": "stdout",
     "output_type": "stream",
     "text": [
      "MSE:  3.1554436208840474e-31\n",
      "R2:  1.0\n"
     ]
    }
   ],
   "source": [
    "# 导入所需的评估指标函数\n",
    "from sklearn.metrics import mean_squared_error, r2_score\n",
    "\n",
    "# 均方误差（Mean Squared Error, MSE）\n",
    "# MSE 是真实值与预测值之间差值的平方的平均值。它衡量了预测值与实际值之间的平均误差大小。MSE 的值越小，说明模型的预测越准确。\n",
    "MSE = mean_squared_error(y, y_predict)\n",
    "\n",
    "# 决定系数（R² Score）\n",
    "# R² Score，也称为R平方或拟合优度，表示模型对数据的拟合程度\n",
    "# 它的值介于0到1之间。一个值为1的R² Score表示模型完美地预测了数据，而值为0则表示模型没有提供任何有用的信息（即预测值与平均值一样好）\n",
    "# 注意，R² Score也可能为负值，这通常发生在模型非常差的情况下，表示模型比简单预测输出平均值还要差\n",
    "R2 = r2_score(y, y_predict)\n",
    "\n",
    "# 评估模型的性能，MSE越小且R² Score越接近1，说明模型的预测性能越好。\n",
    "# 如果R² Score较低或MSE较高，则可能需要调整模型或尝试其他建模技术来改进预测性能。\n",
    "print(\"MSE: \", MSE)\n",
    "print(\"R2: \", R2)"
   ]
  },
  {
   "cell_type": "markdown",
   "id": "e7fb9e13",
   "metadata": {},
   "source": [
    "#### 画图观察法"
   ]
  },
  {
   "cell_type": "code",
   "execution_count": 78,
   "id": "01cd5cb2-5944-4c26-bb5f-c0da297eabd1",
   "metadata": {},
   "outputs": [
    {
     "data": {
      "image/png": "[encoded data removed]",
      "text/plain": [
       "<Figure size 500x500 with 1 Axes>"
      ]
     },
     "metadata": {},
     "output_type": "display_data"
    }
   ],
   "source": [
    "# 通过观察，发现两个数据拟合的非常好\n",
    "plt.figure(figsize=(5, 5))\n",
    "\n",
    "plt.scatter(X, y, c=\"b\", marker=\"o\")\n",
    "plt.scatter(X, y_predict, c=\"r\", marker=\"x\")\n",
    "\n",
    "plt.show()"
   ]
  },
  {
   "cell_type": "code",
   "execution_count": 79,
   "id": "4e7d55ab",
   "metadata": {},
   "outputs": [
    {
     "data": {
      "image/png": "[encoded data removed]",
      "text/plain": [
       "<Figure size 500x500 with 1 Axes>"
      ]
     },
     "metadata": {},
     "output_type": "display_data"
    }
   ],
   "source": [
    "# 通过观察，发现两个数据拟合的非常好\n",
    "plt.figure(figsize=(5, 5))\n",
    "\n",
    "plt.plot(X, y, c='b')\n",
    "plt.plot(X, y_predict, c='r')\n",
    "\n",
    "plt.show()"
   ]
  }
 ],
 "metadata": {
  "kernelspec": {
   "display_name": "Python 3 (ipykernel)",
   "language": "python",
   "name": "python3"
  },
  "language_info": {
   "codemirror_mode": {
    "name": "ipython",
    "version": 3
   },
   "file_extension": ".py",
   "mimetype": "text/x-python",
   "name": "python",
   "nbconvert_exporter": "python",
   "pygments_lexer": "ipython3",
   "version": "3.12.4"
  }
 },
 "nbformat": 4,
 "nbformat_minor": 5
}
